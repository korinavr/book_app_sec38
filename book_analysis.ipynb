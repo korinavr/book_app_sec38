{
 "cells": [
  {
   "cell_type": "markdown",
   "id": "eaabfa16-1288-41e2-86ae-58eb16564890",
   "metadata": {},
   "source": [
    "# Load the book"
   ]
  },
  {
   "cell_type": "code",
   "execution_count": 1,
   "id": "250a6a02-0004-4ab9-9f7c-a16a40882b5a",
   "metadata": {},
   "outputs": [],
   "source": [
    "with open('miracle_in_the_andes.txt', 'r', encoding='utf8') as file:\n",
    "    book = file.read()"
   ]
  },
  {
   "cell_type": "code",
   "execution_count": 4,
   "id": "ff397a98-7fe1-4823-a165-0b6f2dd52085",
   "metadata": {},
   "outputs": [
    {
     "data": {
      "text/plain": [
       "'Chapter 1\\n\\nBefore\\n\\n\\nIT WAS FRIDAY, the thirteenth of October. We joked about that—flying over the Andes on such an unlucky day, but young men make those kinds of jokes so easily. Our flight had originated one day earlier in Montevideo, my hometown, its destination Santiago, Chile. It was a chartered flight on a Fairchild twin-engine turboprop carrying my rugby team—the Old Christians Rugby Club—to play an exhibition match against a top Chilean squad. There were forty-five people aboard, including four crew members—pilot, copilot, mechanic, and steward. Most of the passengers were my teammates, but we were also accompanied by friends, family members, and other supporters of the team, including my mother, Eugenia, and my younger sister, Susy, who were sitting across the aisle and one row in front of me. Our original itinerary was to fly nonstop to Santiago, a trip of about three and a half hours. But after just a few hours of flying, reports of bad weather in the mountains ahead forced t'"
      ]
     },
     "execution_count": 4,
     "metadata": {},
     "output_type": "execute_result"
    }
   ],
   "source": [
    "book[:1000]"
   ]
  },
  {
   "cell_type": "markdown",
   "id": "90b98a76-d3d8-44db-b77e-8afc426260d6",
   "metadata": {},
   "source": [
    "# How many chapters"
   ]
  },
  {
   "cell_type": "markdown",
   "id": "00587745-acf3-4049-8577-0eb06b1ac5ea",
   "metadata": {},
   "source": [
    "### With string methods"
   ]
  },
  {
   "cell_type": "code",
   "execution_count": 5,
   "id": "0ca27449-8435-4147-b663-44b56c9654af",
   "metadata": {},
   "outputs": [
    {
     "data": {
      "text/plain": [
       "11"
      ]
     },
     "execution_count": 5,
     "metadata": {},
     "output_type": "execute_result"
    }
   ],
   "source": [
    "book.count('Chapter')"
   ]
  },
  {
   "cell_type": "markdown",
   "id": "d6da1afc-333d-4f6a-8a7c-b3d78eecda05",
   "metadata": {},
   "source": [
    "### With regex"
   ]
  },
  {
   "cell_type": "code",
   "execution_count": 5,
   "id": "6a45167b-bb0b-4fb5-b023-3900c09ed601",
   "metadata": {},
   "outputs": [],
   "source": [
    "import re"
   ]
  },
  {
   "cell_type": "code",
   "execution_count": 12,
   "id": "d8837e05-42ba-4bc4-b509-cd3dea368206",
   "metadata": {},
   "outputs": [
    {
     "name": "stdout",
     "output_type": "stream",
     "text": [
      "['Chapter 1', 'Chapter 2', 'Chapter 3', 'Chapter 4', 'Chapter 5', 'Chapter 6', 'Chapter 7', 'Chapter 8', 'Chapter 9', 'Chapter 10']\n"
     ]
    },
    {
     "data": {
      "text/plain": [
       "10"
      ]
     },
     "execution_count": 12,
     "metadata": {},
     "output_type": "execute_result"
    }
   ],
   "source": [
    "pattern = re.compile('Chapter [0-9]+')\n",
    "findings = re.findall(pattern, book)\n",
    "print(findings)\n",
    "len(findings)"
   ]
  },
  {
   "cell_type": "markdown",
   "id": "5a90efe5-62ab-4e8b-8a43-2bdb73bd9624",
   "metadata": {},
   "source": [
    "# Which are the sentences where \"love\" was used?"
   ]
  },
  {
   "cell_type": "code",
   "execution_count": 15,
   "id": "8c55d9d9-7990-464b-aa72-f72a69489bb5",
   "metadata": {},
   "outputs": [
    {
     "data": {
      "text/plain": [
       "67"
      ]
     },
     "execution_count": 15,
     "metadata": {},
     "output_type": "execute_result"
    }
   ],
   "source": [
    "pattern = re.compile('[A-Z]{1}[^.]*[^a-zA-Z]+love[^a-zA-Z]+[^.]*.')\n",
    "findings = re.findall(pattern, book)\n",
    "len(findings)"
   ]
  },
  {
   "cell_type": "markdown",
   "id": "8d85673e-8eea-4dfe-9d50-a5d1dd2acd04",
   "metadata": {},
   "source": [
    "# What are the most used words?"
   ]
  },
  {
   "cell_type": "code",
   "execution_count": 23,
   "id": "2cb4b350-1453-4de5-8fbe-023d34baf06c",
   "metadata": {},
   "outputs": [
    {
     "data": {
      "text/plain": [
       "['chapter',\n",
       " 'before',\n",
       " 'it',\n",
       " 'was',\n",
       " 'friday',\n",
       " 'the',\n",
       " 'thirteenth',\n",
       " 'of',\n",
       " 'october',\n",
       " 'we',\n",
       " 'joked',\n",
       " 'about',\n",
       " 'that',\n",
       " 'flying',\n",
       " 'over',\n",
       " 'the',\n",
       " 'andes',\n",
       " 'on',\n",
       " 'such',\n",
       " 'an']"
      ]
     },
     "execution_count": 23,
     "metadata": {},
     "output_type": "execute_result"
    }
   ],
   "source": [
    "pattern = re.compile('[a-zA-z]+')\n",
    "findings = re.findall(pattern, book.lower())\n",
    "findings[:20]"
   ]
  },
  {
   "cell_type": "code",
   "execution_count": 24,
   "id": "a0f2e773-ecaa-4e9d-adb9-bb9ac11ac69c",
   "metadata": {},
   "outputs": [],
   "source": [
    "# Create an empty dictionary and track the number of occurancies for each word\n",
    "d = {}\n",
    "for word in findings:\n",
    "    if word in d.keys():\n",
    "        d[word] += 1\n",
    "    else:\n",
    "        d[word] = 1"
   ]
  },
  {
   "cell_type": "code",
   "execution_count": 27,
   "id": "b57a030f-7066-479e-bd35-6862fadf153f",
   "metadata": {},
   "outputs": [
    {
     "data": {
      "text/plain": [
       "[(5346, 'the'),\n",
       " (2795, 'and'),\n",
       " (2729, 'i'),\n",
       " (2400, 'to'),\n",
       " (2060, 'of'),\n",
       " (1566, 'a'),\n",
       " (1430, 'was'),\n",
       " (1419, 'in'),\n",
       " (1226, 'we'),\n",
       " (1169, 'my'),\n",
       " (1001, 'that'),\n",
       " (946, 'he'),\n",
       " (941, 'had'),\n",
       " (800, 'it'),\n",
       " (705, 'for'),\n",
       " (700, 'as'),\n",
       " (679, 'but'),\n",
       " (632, 'with'),\n",
       " (617, 'me'),\n",
       " (576, 'on')]"
      ]
     },
     "execution_count": 27,
     "metadata": {},
     "output_type": "execute_result"
    }
   ],
   "source": [
    "# Convert the dictionary into a list of tuples in order to sort it\n",
    "d_list = [(value, key) for (key, value) in d.items()]\n",
    "sorted(d_list, reverse=True)[:20]"
   ]
  },
  {
   "cell_type": "markdown",
   "id": "c446c13c-0967-4790-b740-c76cc3b3804e",
   "metadata": {},
   "source": [
    "# Extract the paragraphs where \"love\" was used"
   ]
  },
  {
   "cell_type": "code",
   "execution_count": 42,
   "id": "dee3837c-4e2c-444f-b00e-48c103dd7749",
   "metadata": {},
   "outputs": [
    {
     "data": {
      "text/plain": [
       "39"
      ]
     },
     "execution_count": 42,
     "metadata": {},
     "output_type": "execute_result"
    }
   ],
   "source": [
    "pattern = re.compile('[^\\n]+[^a-zA-Z]+love[^a-zA-Z]+[^\\n]+')\n",
    "findings = re.findall(pattern, book)\n",
    "len(findings)"
   ]
  },
  {
   "cell_type": "markdown",
   "id": "ea71e08b-da73-44de-8c1c-39e5a88feb0e",
   "metadata": {},
   "source": [
    "# Extract the chapter titles"
   ]
  },
  {
   "cell_type": "markdown",
   "id": "3a145db5-30ff-4c1f-8e4e-899e254fde9a",
   "metadata": {},
   "source": [
    "### Method 1"
   ]
  },
  {
   "cell_type": "code",
   "execution_count": 8,
   "id": "5992c416-5f0d-42f0-90ad-08f35069c668",
   "metadata": {},
   "outputs": [
    {
     "data": {
      "text/plain": [
       "['Before',\n",
       " 'Everything Precious',\n",
       " 'A Promise',\n",
       " 'Breathe Once More',\n",
       " 'Abandoned',\n",
       " 'Tomb',\n",
       " 'East',\n",
       " 'The Opposite of Death',\n",
       " 'I See a Man',\n",
       " 'After']"
      ]
     },
     "execution_count": 8,
     "metadata": {},
     "output_type": "execute_result"
    }
   ],
   "source": [
    "pattern = re.compile('[a-zA-Z ,]+\\n\\n')\n",
    "findings = re.findall(pattern, book)\n",
    "findings = [item.strip('\\n\\n') for item in findings]\n",
    "findings"
   ]
  },
  {
   "cell_type": "markdown",
   "id": "9eee780a-fce0-4339-9357-09fc8d03be3b",
   "metadata": {},
   "source": [
    "### Method 2"
   ]
  },
  {
   "cell_type": "code",
   "execution_count": 71,
   "id": "32778dac-d1eb-4633-bd29-c76d43d310fc",
   "metadata": {},
   "outputs": [
    {
     "data": {
      "text/plain": [
       "['Before',\n",
       " 'Everything Precious',\n",
       " 'A Promise',\n",
       " 'Breathe Once More',\n",
       " 'Abandoned',\n",
       " 'Tomb',\n",
       " 'East',\n",
       " 'The Opposite of Death',\n",
       " 'I See a Man',\n",
       " 'After']"
      ]
     },
     "execution_count": 71,
     "metadata": {},
     "output_type": "execute_result"
    }
   ],
   "source": [
    "pattern = re.compile('([a-zA-Z ,]+)\\n\\n') # Parentesis tell the code to return only what is included in them\n",
    "findings = re.findall(pattern, book)\n",
    "findings"
   ]
  },
  {
   "cell_type": "markdown",
   "id": "b498322e-3a5f-4ab1-8185-e592cb1e20f1",
   "metadata": {},
   "source": [
    "# Function that finds the occurence of any word"
   ]
  },
  {
   "cell_type": "markdown",
   "id": "cb1bf54e-cba0-4c37-a5fd-70e9922f4445",
   "metadata": {},
   "source": [
    "### My method"
   ]
  },
  {
   "cell_type": "code",
   "execution_count": 9,
   "id": "9bbf3c3a-24ee-48d3-a22e-f5ed29f3edd3",
   "metadata": {},
   "outputs": [],
   "source": [
    "def find_my_method(word):\n",
    "    pattern = re.compile(f'[^a-zA-Z]+{word.lower()}[^a-zA-z]+')\n",
    "    findings = re.findall(pattern, book.lower())\n",
    "    if len(findings) > 0:\n",
    "        return len(findings)\n",
    "    else:\n",
    "        return f'The book does not contain the word {word}'"
   ]
  },
  {
   "cell_type": "code",
   "execution_count": 10,
   "id": "5051dcb6-29b8-41b8-a895-42b07bb88376",
   "metadata": {},
   "outputs": [
    {
     "data": {
      "text/plain": [
       "83"
      ]
     },
     "execution_count": 10,
     "metadata": {},
     "output_type": "execute_result"
    }
   ],
   "source": [
    "find_my_method('love')"
   ]
  },
  {
   "cell_type": "code",
   "execution_count": 11,
   "id": "b664ba83-9c2e-417f-867d-4509a5d23207",
   "metadata": {},
   "outputs": [
    {
     "data": {
      "text/plain": [
       "'The book does not contain the word hate'"
      ]
     },
     "execution_count": 11,
     "metadata": {},
     "output_type": "execute_result"
    }
   ],
   "source": [
    "find_my_method('hate')"
   ]
  },
  {
   "cell_type": "markdown",
   "id": "186578a2-129c-43da-aad9-6290060cc5fe",
   "metadata": {},
   "source": [
    "### An other method constructing a dictionary of words first"
   ]
  },
  {
   "cell_type": "code",
   "execution_count": 85,
   "id": "43ea3887-8881-409d-9b89-327660a298de",
   "metadata": {},
   "outputs": [],
   "source": [
    "def find(w):\n",
    "    pattern = re.compile('[a-zA-z]+')\n",
    "    findings = re.findall(pattern, book.lower())\n",
    "    d = {}\n",
    "    for word in findings:\n",
    "        if word in d.keys():\n",
    "            d[word] = d[word] + 1\n",
    "        else:\n",
    "            d[word] = 1\n",
    "    try:\n",
    "        return d[w]\n",
    "    except:\n",
    "        return f'The book does not contain the word {w}'"
   ]
  },
  {
   "cell_type": "code",
   "execution_count": 83,
   "id": "affa73d5-d9b6-4935-b22e-bb15293d584b",
   "metadata": {},
   "outputs": [
    {
     "data": {
      "text/plain": [
       "83"
      ]
     },
     "execution_count": 83,
     "metadata": {},
     "output_type": "execute_result"
    }
   ],
   "source": [
    "find('love')"
   ]
  },
  {
   "cell_type": "code",
   "execution_count": 86,
   "id": "b32abb16-d4aa-4b10-a6b2-5e6d97271598",
   "metadata": {},
   "outputs": [
    {
     "data": {
      "text/plain": [
       "'The book does not contain the word hate'"
      ]
     },
     "execution_count": 86,
     "metadata": {},
     "output_type": "execute_result"
    }
   ],
   "source": [
    "find('hate')"
   ]
  }
 ],
 "metadata": {
  "kernelspec": {
   "display_name": "Python 3 (ipykernel)",
   "language": "python",
   "name": "python3"
  },
  "language_info": {
   "codemirror_mode": {
    "name": "ipython",
    "version": 3
   },
   "file_extension": ".py",
   "mimetype": "text/x-python",
   "name": "python",
   "nbconvert_exporter": "python",
   "pygments_lexer": "ipython3",
   "version": "3.11.7"
  }
 },
 "nbformat": 4,
 "nbformat_minor": 5
}
